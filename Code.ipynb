{
 "cells": [
  {
   "cell_type": "markdown",
   "id": "plain-conservation",
   "metadata": {},
   "source": [
    "# INDE 535 - Project"
   ]
  },
  {
   "cell_type": "markdown",
   "id": "streaming-camping",
   "metadata": {},
   "source": [
    "## Comments"
   ]
  },
  {
   "cell_type": "markdown",
   "id": "native-auckland",
   "metadata": {},
   "source": [
    "#### Cleaning and Preprocessing:\n",
    "\n",
    "Before starting building the models, we had to preprocess the data and conduct some feature engineering to extract useful inputs from the data and to transform the data into a readable format by the machine learning algorithms. We started by inspecting the data by looking for null values which apparently were plenty. We filled NA values depending the variable type. For example we replaced null values in the 'countries' column with 'unknown' and missing value in datetime variables with a toy value '1/1/1900 12:00'. Next, we transformed the variables into their applicable data type. For instance, 'message_type' and 'call_center_status' into a category, and 'display_time' and 'first_session_start_time' into a datetime format. After that, we conducted some exploratory data analysis to catch patterns in our data and to understand the relationships between the independent variables and the dependent variable. Next, we extracted the different components from the date variables by putting the 'year', 'month', 'day', 'hour', and 'minute' each in a seperate column because it's very difficult to encode the whole date variable at once. Then, for simplicity, we extracted the final component from the URL variable by using regular expressions. In addition, we transformed the ID variable into a cleaner one by factorizing it. \n",
    "\n",
    "#### Preparation:\n",
    "\n",
    "First, we splitted the variables into X and y which represent the predictor variables and the target variable respectively. We used all the variables given in the dataset except for the target variable as our predictor variables. \n",
    "Since Machine Learning Models can't read strings, we had to perform Ordinal Encoding to transform text into number. Moreover, we also did feature scaling (MinMax Scaler) to standardize the data to have a better model performance. We used the pipeline functionality of sklearn to do so since it was more convenient.\n",
    "\n",
    "#### Model Building - Phase 1:\n",
    "\n",
    "We started first by building three models: Logistic Regression, Multinomial Naive Bayes, and KNeighbors Classifier. The score were as folllows:\n",
    "\n",
    "            1- Logistic Regression: 98%\n",
    "            2- Multinomial Naive Bayes: 98%\n",
    "            3- KNearest Neighbors: 98%\n",
    "\n",
    "After looking at the Confusion Matrix, we noticed a weird result. The Contact (value = 1) value had very low precision and recall scores. After inspecting, we noticed that 'Label 1' had very low instances (4455) compared with 'Label 0' which had very high occurences (234541). This led the models to have a high bias towards 'Label 0' and accordingly led to a misclassification of 'Label 1'. This is called 'Imbalanced Classification'. \n",
    "\n",
    "#### Model Building - Phase 2:\n",
    "\n",
    "To overcome this problem, we research some techniques to deal with such scenarios. Accordingly, we decided to test an oversampling technque called (SMOTE) which basically increases the occurences of the minority sample based on a certain algorithm. We then retrained our Logistic Regression, Naive Bayes, KNearest Neighbors models, and also trained a Random Forest Model. The scores were as follow:\n",
    "\n",
    "            1- Logistic Regression with SMOTE: \n",
    "                                    - Accuracy: 93%\n",
    "                                    - Label 1 Precision: 5%\n",
    "                                    - Label 1 Recall: 17%\n",
    "                                \n",
    "            2- Multinomial Naive Bayes with SMOTE: \n",
    "                                    - Accuracy: 75%\n",
    "                                    - Label 1 Precision: 4%\n",
    "                                    - Label 1 Recall: 51%\n",
    "\n",
    "            3- KNeighbors Classifier with SMOTE: \n",
    "                                    - Accuracy: 63%\n",
    "                                    - Label 1 Precision: 3%\n",
    "                                    - Label 1 Recall: 51%\n",
    "                                    \n",
    "            4- Random Forest with SMOTE: \n",
    "                                    - Accuracy: 98%\n",
    "                                    - Label 1 Precision: 6%\n",
    "                                    - Label 1 Recall: 0%\n",
    "                                    \n",
    "#### Best Model:\n",
    "\n",
    "Depending on the company's intention, we can pick the best model. If the company cares about having a high overall accuracy regardless about the accuracy of the 'Label 1' class, then they should go with the KNeighbors Classifier trained in phase 1. However, if the company places a high importance on predicting the occurences of 'Label 1', then they should go with the 'Naive Bayes with SMOTE' model stated in phase 2.\n",
    "\n",
    "#### Statistics\n",
    "\n",
    "Based on the Exploratory Analysis conducted, we can see that people who access the website through a desktop are more likely to accept a contact offer than those who use a mobile or a tablet. Additionally, people who call while the call center is open are more likely to accept an offer than those who call while the center is closed. Moreover, people who have a display reason of 'id2' and 'id3' are more likely to accept the offer than those with 'id1', 'id4' and 'id5'. Also, people who got a message type of 'id6' and 'id8' are more likely to accept the offer. Finally, it is shown that people who come to the website through 'SEM' and 'Search' are more likely to accept the offer than 'Affiliate'.\n",
    "\n",
    "#### How do you propose addressing the other questions on what to offer, where, and when to show the offer? \n",
    "\n",
    "I propose addressing these question by studying the behaviors of the customers who visit the website. This can be modeled using a clustering model where customers who have similar behaviors should be offered simalar contact offers. Same applies to where to offer and when to show the offer.\n",
    "\n",
    "#### How would you assess if your entire approach, once conceived, has an actual impact on business? \n",
    "\n",
    "This can be measured by monitoring whether the percentage acceptance of contact offers has increased by optimizing the offer placement conditions. Additionally, since the company's main goad is to maximize profits, this can also be monitored by measuring the percentage increase or decrease in the company's overall profits. "
   ]
  },
  {
   "cell_type": "markdown",
   "id": "aware-judgment",
   "metadata": {},
   "source": [
    "## Importing Libraries and Dataset"
   ]
  },
  {
   "cell_type": "code",
   "execution_count": 3,
   "id": "extra-palace",
   "metadata": {},
   "outputs": [],
   "source": [
    "import warnings\n",
    "warnings.filterwarnings('ignore')\n",
    "\n",
    "import os\n",
    "import pandas as pd\n",
    "from pandas.plotting import scatter_matrix\n",
    "import numpy as np\n",
    "import matplotlib.pyplot as plt\n",
    "import seaborn as sns\n",
    "import datetime as dt\n",
    "\n",
    "from sklearn.model_selection import train_test_split\n",
    "from sklearn.preprocessing import OrdinalEncoder\n",
    "from sklearn.preprocessing import OneHotEncoder\n",
    "from sklearn.pipeline import Pipeline\n",
    "from sklearn.preprocessing import MinMaxScaler\n",
    "from sklearn.compose import ColumnTransformer\n",
    "from sklearn.metrics import confusion_matrix\n",
    "from sklearn.metrics import classification_report\n",
    "from sklearn.metrics import roc_curve, roc_auc_score\n",
    "\n",
    "from sklearn.linear_model import LogisticRegression\n",
    "from sklearn.naive_bayes import MultinomialNB\n",
    "from sklearn.svm import SVC\n",
    "from sklearn.neighbors import KNeighborsClassifier\n",
    "from sklearn.ensemble import RandomForestClassifier\n",
    "\n",
    "from imblearn.over_sampling import SMOTE\n",
    "from imblearn.over_sampling import RandomOverSampler\n",
    "from imblearn.under_sampling import TomekLinks\n",
    "from imblearn.over_sampling import RandomOverSampler\n",
    "from imblearn.under_sampling import RandomUnderSampler\n",
    "from imblearn.pipeline import Pipeline as imbPipeline\n",
    "from imblearn.under_sampling import NearMiss"
   ]
  },
  {
   "cell_type": "code",
   "execution_count": 4,
   "id": "divided-country",
   "metadata": {},
   "outputs": [],
   "source": [
    "os.chdir('')\n",
    "\n",
    "data = pd.read_csv('data.csv')"
   ]
  },
  {
   "cell_type": "markdown",
   "id": "common-donna",
   "metadata": {},
   "source": [
    "## Discovering the Dataset"
   ]
  },
  {
   "cell_type": "code",
   "execution_count": 5,
   "id": "matched-causing",
   "metadata": {},
   "outputs": [
    {
     "data": {
      "text/html": [
       "<div>\n",
       "<style scoped>\n",
       "    .dataframe tbody tr th:only-of-type {\n",
       "        vertical-align: middle;\n",
       "    }\n",
       "\n",
       "    .dataframe tbody tr th {\n",
       "        vertical-align: top;\n",
       "    }\n",
       "\n",
       "    .dataframe thead th {\n",
       "        text-align: right;\n",
       "    }\n",
       "</style>\n",
       "<table border=\"1\" class=\"dataframe\">\n",
       "  <thead>\n",
       "    <tr style=\"text-align: right;\">\n",
       "      <th></th>\n",
       "      <th>row_id</th>\n",
       "      <th>uid</th>\n",
       "      <th>display_time</th>\n",
       "      <th>landing_page</th>\n",
       "      <th>traffic_source</th>\n",
       "      <th>first_session_start_time</th>\n",
       "      <th>total_visits</th>\n",
       "      <th>previous_session_start_time</th>\n",
       "      <th>current_session_start_time</th>\n",
       "      <th>clicks_before_this_display</th>\n",
       "      <th>previous_displays_this_session</th>\n",
       "      <th>previous_display_time</th>\n",
       "      <th>current_url</th>\n",
       "      <th>country</th>\n",
       "      <th>message_type</th>\n",
       "      <th>response_promise</th>\n",
       "      <th>display_reason</th>\n",
       "      <th>call_center_status</th>\n",
       "      <th>device_type</th>\n",
       "      <th>contact</th>\n",
       "    </tr>\n",
       "  </thead>\n",
       "  <tbody>\n",
       "    <tr>\n",
       "      <th>0</th>\n",
       "      <td>161965</td>\n",
       "      <td>e705b8929e6872a1ea1b4b7a78536c5f</td>\n",
       "      <td>2016-03-09 11:52:52</td>\n",
       "      <td>hidden.org/kcpov/ijrsg</td>\n",
       "      <td>SEM</td>\n",
       "      <td>2016-03-09 11:48:35</td>\n",
       "      <td>1</td>\n",
       "      <td>NaN</td>\n",
       "      <td>2016-03-09 11:48:35</td>\n",
       "      <td>3</td>\n",
       "      <td>0</td>\n",
       "      <td>NaN</td>\n",
       "      <td>hidden.org/kcpov/ijrsg</td>\n",
       "      <td>stnzd</td>\n",
       "      <td>id5</td>\n",
       "      <td>1 minute</td>\n",
       "      <td>id5</td>\n",
       "      <td>Open</td>\n",
       "      <td>mobile</td>\n",
       "      <td>0</td>\n",
       "    </tr>\n",
       "    <tr>\n",
       "      <th>1</th>\n",
       "      <td>53467</td>\n",
       "      <td>aec94da87ad2a4ebc7481ae1bc079c36</td>\n",
       "      <td>2016-03-15 19:04:16</td>\n",
       "      <td>hidden.org/</td>\n",
       "      <td>SEM</td>\n",
       "      <td>2016-03-15 19:02:58</td>\n",
       "      <td>1</td>\n",
       "      <td>NaN</td>\n",
       "      <td>2016-03-15 19:02:58</td>\n",
       "      <td>6</td>\n",
       "      <td>1</td>\n",
       "      <td>2016-03-15 19:03:39</td>\n",
       "      <td>hidden.org/pvynf</td>\n",
       "      <td>stnzd</td>\n",
       "      <td>id8</td>\n",
       "      <td>1 minute</td>\n",
       "      <td>id3</td>\n",
       "      <td>Open</td>\n",
       "      <td>tablet</td>\n",
       "      <td>0</td>\n",
       "    </tr>\n",
       "    <tr>\n",
       "      <th>2</th>\n",
       "      <td>143773</td>\n",
       "      <td>adb7bbbe44f669b0b0978a793ae49132</td>\n",
       "      <td>2016-03-03 10:54:12</td>\n",
       "      <td>hidden.org/</td>\n",
       "      <td>SEM</td>\n",
       "      <td>2016-03-03 10:52:45</td>\n",
       "      <td>1</td>\n",
       "      <td>NaN</td>\n",
       "      <td>2016-03-03 10:52:45</td>\n",
       "      <td>3</td>\n",
       "      <td>0</td>\n",
       "      <td>NaN</td>\n",
       "      <td>hidden.org/pvynf/ijrsg</td>\n",
       "      <td>stnzd</td>\n",
       "      <td>id4</td>\n",
       "      <td>1 minute</td>\n",
       "      <td>id3</td>\n",
       "      <td>Open</td>\n",
       "      <td>mobile</td>\n",
       "      <td>0</td>\n",
       "    </tr>\n",
       "    <tr>\n",
       "      <th>3</th>\n",
       "      <td>80222</td>\n",
       "      <td>2b5c6bf6ef6fec14025c73d2e99321eb</td>\n",
       "      <td>2016-04-30 11:57:18</td>\n",
       "      <td>hidden.org/</td>\n",
       "      <td>Search</td>\n",
       "      <td>2016-04-30 11:54:46</td>\n",
       "      <td>1</td>\n",
       "      <td>NaN</td>\n",
       "      <td>2016-04-30 11:54:46</td>\n",
       "      <td>8</td>\n",
       "      <td>6</td>\n",
       "      <td>2016-04-30 11:56:54</td>\n",
       "      <td>hidden.org/kcpov</td>\n",
       "      <td>stnzd</td>\n",
       "      <td>id1</td>\n",
       "      <td>NaN</td>\n",
       "      <td>id1</td>\n",
       "      <td>Open</td>\n",
       "      <td>mobile</td>\n",
       "      <td>0</td>\n",
       "    </tr>\n",
       "    <tr>\n",
       "      <th>4</th>\n",
       "      <td>204635</td>\n",
       "      <td>fddee7e23976e16b8fa3e022e671500b</td>\n",
       "      <td>2016-04-26 10:09:51</td>\n",
       "      <td>hidden.org/</td>\n",
       "      <td>SEM</td>\n",
       "      <td>2016-04-21 12:55:59</td>\n",
       "      <td>2</td>\n",
       "      <td>2016-04-21 12:55:59</td>\n",
       "      <td>2016-04-26 10:09:12</td>\n",
       "      <td>6</td>\n",
       "      <td>1</td>\n",
       "      <td>2016-04-26 10:09:21</td>\n",
       "      <td>hidden.org/bgalf</td>\n",
       "      <td>stnzd</td>\n",
       "      <td>id6</td>\n",
       "      <td>1 minute</td>\n",
       "      <td>id2</td>\n",
       "      <td>Open</td>\n",
       "      <td>desktop</td>\n",
       "      <td>0</td>\n",
       "    </tr>\n",
       "  </tbody>\n",
       "</table>\n",
       "</div>"
      ],
      "text/plain": [
       "   row_id                               uid         display_time  \\\n",
       "0  161965  e705b8929e6872a1ea1b4b7a78536c5f  2016-03-09 11:52:52   \n",
       "1   53467  aec94da87ad2a4ebc7481ae1bc079c36  2016-03-15 19:04:16   \n",
       "2  143773  adb7bbbe44f669b0b0978a793ae49132  2016-03-03 10:54:12   \n",
       "3   80222  2b5c6bf6ef6fec14025c73d2e99321eb  2016-04-30 11:57:18   \n",
       "4  204635  fddee7e23976e16b8fa3e022e671500b  2016-04-26 10:09:51   \n",
       "\n",
       "             landing_page traffic_source first_session_start_time  \\\n",
       "0  hidden.org/kcpov/ijrsg            SEM      2016-03-09 11:48:35   \n",
       "1             hidden.org/            SEM      2016-03-15 19:02:58   \n",
       "2             hidden.org/            SEM      2016-03-03 10:52:45   \n",
       "3             hidden.org/         Search      2016-04-30 11:54:46   \n",
       "4             hidden.org/            SEM      2016-04-21 12:55:59   \n",
       "\n",
       "   total_visits previous_session_start_time current_session_start_time  \\\n",
       "0             1                         NaN        2016-03-09 11:48:35   \n",
       "1             1                         NaN        2016-03-15 19:02:58   \n",
       "2             1                         NaN        2016-03-03 10:52:45   \n",
       "3             1                         NaN        2016-04-30 11:54:46   \n",
       "4             2         2016-04-21 12:55:59        2016-04-26 10:09:12   \n",
       "\n",
       "   clicks_before_this_display  previous_displays_this_session  \\\n",
       "0                           3                               0   \n",
       "1                           6                               1   \n",
       "2                           3                               0   \n",
       "3                           8                               6   \n",
       "4                           6                               1   \n",
       "\n",
       "  previous_display_time             current_url country message_type  \\\n",
       "0                   NaN  hidden.org/kcpov/ijrsg   stnzd          id5   \n",
       "1   2016-03-15 19:03:39        hidden.org/pvynf   stnzd          id8   \n",
       "2                   NaN  hidden.org/pvynf/ijrsg   stnzd          id4   \n",
       "3   2016-04-30 11:56:54        hidden.org/kcpov   stnzd          id1   \n",
       "4   2016-04-26 10:09:21        hidden.org/bgalf   stnzd          id6   \n",
       "\n",
       "  response_promise display_reason call_center_status device_type  contact  \n",
       "0         1 minute            id5               Open      mobile        0  \n",
       "1         1 minute            id3               Open      tablet        0  \n",
       "2         1 minute            id3               Open      mobile        0  \n",
       "3              NaN            id1               Open      mobile        0  \n",
       "4         1 minute            id2               Open     desktop        0  "
      ]
     },
     "execution_count": 5,
     "metadata": {},
     "output_type": "execute_result"
    }
   ],
   "source": [
    "data.head()"
   ]
  },
  {
   "cell_type": "code",
   "execution_count": 6,
   "id": "certain-genome",
   "metadata": {},
   "outputs": [
    {
     "name": "stdout",
     "output_type": "stream",
     "text": [
      "The Dataset has 238996 rows and 20 columns\n"
     ]
    }
   ],
   "source": [
    "print('The Dataset has {} rows and {} columns'.format(data.shape[0], data.shape[1]))"
   ]
  },
  {
   "cell_type": "code",
   "execution_count": 7,
   "id": "parental-candidate",
   "metadata": {},
   "outputs": [
    {
     "name": "stdout",
     "output_type": "stream",
     "text": [
      "<class 'pandas.core.frame.DataFrame'>\n",
      "RangeIndex: 238996 entries, 0 to 238995\n",
      "Data columns (total 20 columns):\n",
      " #   Column                          Non-Null Count   Dtype \n",
      "---  ------                          --------------   ----- \n",
      " 0   row_id                          238996 non-null  int64 \n",
      " 1   uid                             238996 non-null  object\n",
      " 2   display_time                    238996 non-null  object\n",
      " 3   landing_page                    238996 non-null  object\n",
      " 4   traffic_source                  130613 non-null  object\n",
      " 5   first_session_start_time        238996 non-null  object\n",
      " 6   total_visits                    238996 non-null  int64 \n",
      " 7   previous_session_start_time     80810 non-null   object\n",
      " 8   current_session_start_time      238996 non-null  object\n",
      " 9   clicks_before_this_display      238996 non-null  int64 \n",
      " 10  previous_displays_this_session  238996 non-null  int64 \n",
      " 11  previous_display_time           92733 non-null   object\n",
      " 12  current_url                     238996 non-null  object\n",
      " 13  country                         231869 non-null  object\n",
      " 14  message_type                    238996 non-null  object\n",
      " 15  response_promise                201898 non-null  object\n",
      " 16  display_reason                  238996 non-null  object\n",
      " 17  call_center_status              238996 non-null  object\n",
      " 18  device_type                     237435 non-null  object\n",
      " 19  contact                         238996 non-null  int64 \n",
      "dtypes: int64(5), object(15)\n",
      "memory usage: 36.5+ MB\n"
     ]
    }
   ],
   "source": [
    "data.info()"
   ]
  },
  {
   "cell_type": "code",
   "execution_count": 8,
   "id": "improving-basics",
   "metadata": {},
   "outputs": [],
   "source": [
    "data.drop('row_id', axis=1, inplace=True)"
   ]
  },
  {
   "cell_type": "code",
   "execution_count": 9,
   "id": "overall-authority",
   "metadata": {},
   "outputs": [
    {
     "data": {
      "text/html": [
       "<div>\n",
       "<style scoped>\n",
       "    .dataframe tbody tr th:only-of-type {\n",
       "        vertical-align: middle;\n",
       "    }\n",
       "\n",
       "    .dataframe tbody tr th {\n",
       "        vertical-align: top;\n",
       "    }\n",
       "\n",
       "    .dataframe thead th {\n",
       "        text-align: right;\n",
       "    }\n",
       "</style>\n",
       "<table border=\"1\" class=\"dataframe\">\n",
       "  <thead>\n",
       "    <tr style=\"text-align: right;\">\n",
       "      <th></th>\n",
       "      <th>total_visits</th>\n",
       "      <th>clicks_before_this_display</th>\n",
       "      <th>previous_displays_this_session</th>\n",
       "      <th>contact</th>\n",
       "    </tr>\n",
       "  </thead>\n",
       "  <tbody>\n",
       "    <tr>\n",
       "      <th>count</th>\n",
       "      <td>238996.000000</td>\n",
       "      <td>238996.000000</td>\n",
       "      <td>238996.000000</td>\n",
       "      <td>238996.000000</td>\n",
       "    </tr>\n",
       "    <tr>\n",
       "      <th>mean</th>\n",
       "      <td>5.810168</td>\n",
       "      <td>4.820909</td>\n",
       "      <td>0.863006</td>\n",
       "      <td>0.018640</td>\n",
       "    </tr>\n",
       "    <tr>\n",
       "      <th>std</th>\n",
       "      <td>76.047676</td>\n",
       "      <td>2.960773</td>\n",
       "      <td>1.589227</td>\n",
       "      <td>0.135252</td>\n",
       "    </tr>\n",
       "    <tr>\n",
       "      <th>min</th>\n",
       "      <td>1.000000</td>\n",
       "      <td>0.000000</td>\n",
       "      <td>0.000000</td>\n",
       "      <td>0.000000</td>\n",
       "    </tr>\n",
       "    <tr>\n",
       "      <th>25%</th>\n",
       "      <td>1.000000</td>\n",
       "      <td>3.000000</td>\n",
       "      <td>0.000000</td>\n",
       "      <td>0.000000</td>\n",
       "    </tr>\n",
       "    <tr>\n",
       "      <th>50%</th>\n",
       "      <td>1.000000</td>\n",
       "      <td>3.000000</td>\n",
       "      <td>0.000000</td>\n",
       "      <td>0.000000</td>\n",
       "    </tr>\n",
       "    <tr>\n",
       "      <th>75%</th>\n",
       "      <td>2.000000</td>\n",
       "      <td>6.000000</td>\n",
       "      <td>1.000000</td>\n",
       "      <td>0.000000</td>\n",
       "    </tr>\n",
       "    <tr>\n",
       "      <th>max</th>\n",
       "      <td>3652.000000</td>\n",
       "      <td>126.000000</td>\n",
       "      <td>16.000000</td>\n",
       "      <td>1.000000</td>\n",
       "    </tr>\n",
       "  </tbody>\n",
       "</table>\n",
       "</div>"
      ],
      "text/plain": [
       "        total_visits  clicks_before_this_display  \\\n",
       "count  238996.000000               238996.000000   \n",
       "mean        5.810168                    4.820909   \n",
       "std        76.047676                    2.960773   \n",
       "min         1.000000                    0.000000   \n",
       "25%         1.000000                    3.000000   \n",
       "50%         1.000000                    3.000000   \n",
       "75%         2.000000                    6.000000   \n",
       "max      3652.000000                  126.000000   \n",
       "\n",
       "       previous_displays_this_session        contact  \n",
       "count                   238996.000000  238996.000000  \n",
       "mean                         0.863006       0.018640  \n",
       "std                          1.589227       0.135252  \n",
       "min                          0.000000       0.000000  \n",
       "25%                          0.000000       0.000000  \n",
       "50%                          0.000000       0.000000  \n",
       "75%                          1.000000       0.000000  \n",
       "max                         16.000000       1.000000  "
      ]
     },
     "execution_count": 9,
     "metadata": {},
     "output_type": "execute_result"
    }
   ],
   "source": [
    "data.describe(include=['number'])"
   ]
  },
  {
   "cell_type": "code",
   "execution_count": 10,
   "id": "modern-appendix",
   "metadata": {},
   "outputs": [
    {
     "data": {
      "text/html": [
       "<div>\n",
       "<style scoped>\n",
       "    .dataframe tbody tr th:only-of-type {\n",
       "        vertical-align: middle;\n",
       "    }\n",
       "\n",
       "    .dataframe tbody tr th {\n",
       "        vertical-align: top;\n",
       "    }\n",
       "\n",
       "    .dataframe thead th {\n",
       "        text-align: right;\n",
       "    }\n",
       "</style>\n",
       "<table border=\"1\" class=\"dataframe\">\n",
       "  <thead>\n",
       "    <tr style=\"text-align: right;\">\n",
       "      <th></th>\n",
       "      <th>uid</th>\n",
       "      <th>display_time</th>\n",
       "      <th>landing_page</th>\n",
       "      <th>traffic_source</th>\n",
       "      <th>first_session_start_time</th>\n",
       "      <th>previous_session_start_time</th>\n",
       "      <th>current_session_start_time</th>\n",
       "      <th>previous_display_time</th>\n",
       "      <th>current_url</th>\n",
       "      <th>country</th>\n",
       "      <th>message_type</th>\n",
       "      <th>response_promise</th>\n",
       "      <th>display_reason</th>\n",
       "      <th>call_center_status</th>\n",
       "      <th>device_type</th>\n",
       "    </tr>\n",
       "  </thead>\n",
       "  <tbody>\n",
       "    <tr>\n",
       "      <th>count</th>\n",
       "      <td>238996</td>\n",
       "      <td>238996</td>\n",
       "      <td>238996</td>\n",
       "      <td>130613</td>\n",
       "      <td>238996</td>\n",
       "      <td>80810</td>\n",
       "      <td>238996</td>\n",
       "      <td>92733</td>\n",
       "      <td>238996</td>\n",
       "      <td>231869</td>\n",
       "      <td>238996</td>\n",
       "      <td>201898</td>\n",
       "      <td>238996</td>\n",
       "      <td>238996</td>\n",
       "      <td>237435</td>\n",
       "    </tr>\n",
       "    <tr>\n",
       "      <th>unique</th>\n",
       "      <td>135024</td>\n",
       "      <td>222780</td>\n",
       "      <td>556</td>\n",
       "      <td>3</td>\n",
       "      <td>132321</td>\n",
       "      <td>52026</td>\n",
       "      <td>152462</td>\n",
       "      <td>87576</td>\n",
       "      <td>613</td>\n",
       "      <td>92</td>\n",
       "      <td>9</td>\n",
       "      <td>3</td>\n",
       "      <td>5</td>\n",
       "      <td>2</td>\n",
       "      <td>3</td>\n",
       "    </tr>\n",
       "    <tr>\n",
       "      <th>top</th>\n",
       "      <td>04edbaee2e5f1029ec81e0d3030a75bc</td>\n",
       "      <td>2016-03-01 12:15:27</td>\n",
       "      <td>hidden.org/</td>\n",
       "      <td>SEM</td>\n",
       "      <td>2015-11-14 07:14:04</td>\n",
       "      <td>2016-01-12 14:35:23</td>\n",
       "      <td>2016-03-03 12:49:36</td>\n",
       "      <td>2016-03-02 14:45:51</td>\n",
       "      <td>hidden.org/</td>\n",
       "      <td>stnzd</td>\n",
       "      <td>id6</td>\n",
       "      <td>1 minute</td>\n",
       "      <td>id2</td>\n",
       "      <td>Open</td>\n",
       "      <td>desktop</td>\n",
       "    </tr>\n",
       "    <tr>\n",
       "      <th>freq</th>\n",
       "      <td>117</td>\n",
       "      <td>5</td>\n",
       "      <td>167594</td>\n",
       "      <td>69848</td>\n",
       "      <td>117</td>\n",
       "      <td>11</td>\n",
       "      <td>14</td>\n",
       "      <td>4</td>\n",
       "      <td>29565</td>\n",
       "      <td>218561</td>\n",
       "      <td>92163</td>\n",
       "      <td>193138</td>\n",
       "      <td>111683</td>\n",
       "      <td>230236</td>\n",
       "      <td>155253</td>\n",
       "    </tr>\n",
       "  </tbody>\n",
       "</table>\n",
       "</div>"
      ],
      "text/plain": [
       "                                     uid         display_time landing_page  \\\n",
       "count                             238996               238996       238996   \n",
       "unique                            135024               222780          556   \n",
       "top     04edbaee2e5f1029ec81e0d3030a75bc  2016-03-01 12:15:27  hidden.org/   \n",
       "freq                                 117                    5       167594   \n",
       "\n",
       "       traffic_source first_session_start_time previous_session_start_time  \\\n",
       "count          130613                   238996                       80810   \n",
       "unique              3                   132321                       52026   \n",
       "top               SEM      2015-11-14 07:14:04         2016-01-12 14:35:23   \n",
       "freq            69848                      117                          11   \n",
       "\n",
       "       current_session_start_time previous_display_time  current_url country  \\\n",
       "count                      238996                 92733       238996  231869   \n",
       "unique                     152462                 87576          613      92   \n",
       "top           2016-03-03 12:49:36   2016-03-02 14:45:51  hidden.org/   stnzd   \n",
       "freq                           14                     4        29565  218561   \n",
       "\n",
       "       message_type response_promise display_reason call_center_status  \\\n",
       "count        238996           201898         238996             238996   \n",
       "unique            9                3              5                  2   \n",
       "top             id6         1 minute            id2               Open   \n",
       "freq          92163           193138         111683             230236   \n",
       "\n",
       "       device_type  \n",
       "count       237435  \n",
       "unique           3  \n",
       "top        desktop  \n",
       "freq        155253  "
      ]
     },
     "execution_count": 10,
     "metadata": {},
     "output_type": "execute_result"
    }
   ],
   "source": [
    "data.describe(include=['object'])"
   ]
  },
  {
   "cell_type": "markdown",
   "id": "light-thousand",
   "metadata": {},
   "source": [
    "## Null Values"
   ]
  },
  {
   "cell_type": "code",
   "execution_count": 11,
   "id": "classified-oregon",
   "metadata": {},
   "outputs": [
    {
     "data": {
      "text/plain": [
       "uid                                    0\n",
       "display_time                           0\n",
       "landing_page                           0\n",
       "traffic_source                    108383\n",
       "first_session_start_time               0\n",
       "total_visits                           0\n",
       "previous_session_start_time       158186\n",
       "current_session_start_time             0\n",
       "clicks_before_this_display             0\n",
       "previous_displays_this_session         0\n",
       "previous_display_time             146263\n",
       "current_url                            0\n",
       "country                             7127\n",
       "message_type                           0\n",
       "response_promise                   37098\n",
       "display_reason                         0\n",
       "call_center_status                     0\n",
       "device_type                         1561\n",
       "contact                                0\n",
       "dtype: int64"
      ]
     },
     "execution_count": 11,
     "metadata": {},
     "output_type": "execute_result"
    }
   ],
   "source": [
    "data.isnull().sum()"
   ]
  },
  {
   "cell_type": "code",
   "execution_count": 12,
   "id": "temporal-wilson",
   "metadata": {},
   "outputs": [],
   "source": [
    "data['traffic_source'].fillna('unkown',inplace=True)\n",
    "data['previous_session_start_time'].fillna('1/1/1900 12:00',inplace=True)\n",
    "data['previous_display_time'].fillna('1/1/1900 12:00',inplace=True)\n",
    "data['country'].fillna('unknown',inplace=True)\n",
    "data['response_promise'].fillna('no_promise',inplace=True)\n",
    "data['device_type'].fillna('unknown',inplace=True)"
   ]
  },
  {
   "cell_type": "code",
   "execution_count": 13,
   "id": "continuing-stone",
   "metadata": {},
   "outputs": [
    {
     "data": {
      "text/plain": [
       "uid                               0\n",
       "display_time                      0\n",
       "landing_page                      0\n",
       "traffic_source                    0\n",
       "first_session_start_time          0\n",
       "total_visits                      0\n",
       "previous_session_start_time       0\n",
       "current_session_start_time        0\n",
       "clicks_before_this_display        0\n",
       "previous_displays_this_session    0\n",
       "previous_display_time             0\n",
       "current_url                       0\n",
       "country                           0\n",
       "message_type                      0\n",
       "response_promise                  0\n",
       "display_reason                    0\n",
       "call_center_status                0\n",
       "device_type                       0\n",
       "contact                           0\n",
       "dtype: int64"
      ]
     },
     "execution_count": 13,
     "metadata": {},
     "output_type": "execute_result"
    }
   ],
   "source": [
    "data.isnull().sum()"
   ]
  },
  {
   "cell_type": "markdown",
   "id": "interested-heading",
   "metadata": {},
   "source": [
    "## Converting Data Types"
   ]
  },
  {
   "cell_type": "code",
   "execution_count": 14,
   "id": "finite-piano",
   "metadata": {},
   "outputs": [],
   "source": [
    "data[\"uid\"] = data[\"uid\"].astype(\"string\")\n",
    "data['display_time'] = pd.to_datetime(data['display_time'])\n",
    "data[\"landing_page\"] = data[\"landing_page\"].astype(\"string\")\n",
    "data[\"traffic_source\"] = data[\"traffic_source\"].astype(\"category\")\n",
    "data['first_session_start_time'] = pd.to_datetime(data['first_session_start_time'])\n",
    "data[\"total_visits\"] = data[\"total_visits\"].astype(\"int\")\n",
    "data['previous_session_start_time'] = pd.to_datetime(data['previous_session_start_time'])\n",
    "data['current_session_start_time'] = pd.to_datetime(data['current_session_start_time'])\n",
    "data[\"clicks_before_this_display\"] = data[\"clicks_before_this_display\"].astype(\"int\")\n",
    "data[\"previous_displays_this_session\"] = data[\"previous_displays_this_session\"].astype(\"int\")\n",
    "data['previous_display_time'] = pd.to_datetime(data['previous_display_time'])\n",
    "data[\"current_url\"] = data[\"current_url\"].astype(\"string\")\n",
    "data[\"country\"] = data[\"country\"].astype(\"string\")\n",
    "data[\"message_type\"] = data[\"message_type\"].astype(\"category\")\n",
    "data[\"response_promise\"] = data[\"response_promise\"].astype(\"string\")\n",
    "data[\"display_reason\"] = data[\"display_reason\"].astype(\"category\")\n",
    "data[\"call_center_status\"] = data[\"call_center_status\"].astype(\"category\")\n",
    "data[\"device_type\"] = data[\"device_type\"].astype(\"category\")\n",
    "data[\"contact\"] = data[\"contact\"].astype(\"category\")"
   ]
  },
  {
   "cell_type": "code",
   "execution_count": 15,
   "id": "organized-cutting",
   "metadata": {},
   "outputs": [
    {
     "name": "stdout",
     "output_type": "stream",
     "text": [
      "<class 'pandas.core.frame.DataFrame'>\n",
      "RangeIndex: 238996 entries, 0 to 238995\n",
      "Data columns (total 19 columns):\n",
      " #   Column                          Non-Null Count   Dtype         \n",
      "---  ------                          --------------   -----         \n",
      " 0   uid                             238996 non-null  string        \n",
      " 1   display_time                    238996 non-null  datetime64[ns]\n",
      " 2   landing_page                    238996 non-null  string        \n",
      " 3   traffic_source                  238996 non-null  category      \n",
      " 4   first_session_start_time        238996 non-null  datetime64[ns]\n",
      " 5   total_visits                    238996 non-null  int32         \n",
      " 6   previous_session_start_time     238996 non-null  datetime64[ns]\n",
      " 7   current_session_start_time      238996 non-null  datetime64[ns]\n",
      " 8   clicks_before_this_display      238996 non-null  int32         \n",
      " 9   previous_displays_this_session  238996 non-null  int32         \n",
      " 10  previous_display_time           238996 non-null  datetime64[ns]\n",
      " 11  current_url                     238996 non-null  string        \n",
      " 12  country                         238996 non-null  string        \n",
      " 13  message_type                    238996 non-null  category      \n",
      " 14  response_promise                238996 non-null  string        \n",
      " 15  display_reason                  238996 non-null  category      \n",
      " 16  call_center_status              238996 non-null  category      \n",
      " 17  device_type                     238996 non-null  category      \n",
      " 18  contact                         238996 non-null  category      \n",
      "dtypes: category(6), datetime64[ns](5), int32(3), string(5)\n",
      "memory usage: 22.3 MB\n"
     ]
    }
   ],
   "source": [
    "data.info()"
   ]
  },
  {
   "cell_type": "markdown",
   "id": "metric-parish",
   "metadata": {},
   "source": [
    "## Exploratory Data Analysis"
   ]
  },
  {
   "cell_type": "code",
   "execution_count": 16,
   "id": "moral-broadway",
   "metadata": {},
   "outputs": [
    {
     "data": {
      "image/png": "[encoded data removed]",
      "text/plain": [
       "<Figure size 576x432 with 1 Axes>"
      ]
     },
     "metadata": {
      "needs_background": "light"
     },
     "output_type": "display_data"
    }
   ],
   "source": [
    "plt.figure(figsize=(8,6))\n",
    "sns.countplot(x = 'contact', data = data, order = data.contact.value_counts().index, palette='magma')\n",
    "\n",
    "plt.xlabel('')\n",
    "plt.ylabel('')\n",
    "plt.title('Counts of Contact')\n",
    "\n",
    "plt.show()"
   ]
  },
  {
   "cell_type": "code",
   "execution_count": 17,
   "id": "radio-rough",
   "metadata": {},
   "outputs": [
    {
     "data": {
      "image/png": "[encoded data removed]",
      "text/plain": [
       "<Figure size 576x360 with 1 Axes>"
      ]
     },
     "metadata": {
      "needs_background": "light"
     },
     "output_type": "display_data"
    }
   ],
   "source": [
    "plt.figure(figsize=(8,5))\n",
    "sns.countplot(y = 'device_type', data = data, order = data.device_type.value_counts().index, palette='magma', hue='contact')\n",
    "\n",
    "plt.xlabel('')\n",
    "plt.ylabel('')\n",
    "plt.title('Counts of Device Types')\n",
    "\n",
    "plt.show()"
   ]
  },
  {
   "cell_type": "code",
   "execution_count": 18,
   "id": "noble-moral",
   "metadata": {},
   "outputs": [
    {
     "data": {
      "image/png": "[encoded data removed]",
      "text/plain": [
       "<Figure size 432x360 with 1 Axes>"
      ]
     },
     "metadata": {
      "needs_background": "light"
     },
     "output_type": "display_data"
    }
   ],
   "source": [
    "plt.figure(figsize=(6,5))\n",
    "sns.countplot(x = 'call_center_status', data = data, order = data.call_center_status.value_counts().index, palette='magma', \n",
    "              hue='contact')\n",
    "\n",
    "plt.xlabel('')\n",
    "plt.ylabel('')\n",
    "plt.title('Counts of Call Center Status')\n",
    "\n",
    "plt.show()"
   ]
  },
  {
   "cell_type": "code",
   "execution_count": 19,
   "id": "integrated-payroll",
   "metadata": {},
   "outputs": [
    {
     "data": {
      "image/png": "[encoded data removed]",
      "text/plain": [
       "<Figure size 576x360 with 1 Axes>"
      ]
     },
     "metadata": {
      "needs_background": "light"
     },
     "output_type": "display_data"
    }
   ],
   "source": [
    "plt.figure(figsize=(8,5))\n",
    "sns.countplot(y = 'display_reason', data = data, order = data.display_reason.value_counts().index, palette='magma', \n",
    "              hue='contact')\n",
    "\n",
    "plt.xlabel('')\n",
    "plt.ylabel('')\n",
    "plt.title('Counts of Display Reasons')\n",
    "\n",
    "plt.show()"
   ]
  },
  {
   "cell_type": "code",
   "execution_count": 20,
   "id": "systematic-bible",
   "metadata": {},
   "outputs": [
    {
     "data": {
      "image/png": "[encoded data removed]",
      "text/plain": [
       "<Figure size 576x360 with 1 Axes>"
      ]
     },
     "metadata": {
      "needs_background": "light"
     },
     "output_type": "display_data"
    }
   ],
   "source": [
    "plt.figure(figsize=(8,5))\n",
    "sns.countplot(x = 'message_type', data = data, order = data.message_type.value_counts().index, palette='magma', hue='contact')\n",
    "\n",
    "plt.xlabel('')\n",
    "plt.ylabel('')\n",
    "plt.title('Counts of Message Types')\n",
    "\n",
    "plt.show()"
   ]
  },
  {
   "cell_type": "code",
   "execution_count": 21,
   "id": "julian-needle",
   "metadata": {},
   "outputs": [
    {
     "data": {
      "image/png": "[encoded data removed]",
      "text/plain": [
       "<Figure size 576x360 with 1 Axes>"
      ]
     },
     "metadata": {
      "needs_background": "light"
     },
     "output_type": "display_data"
    }
   ],
   "source": [
    "plt.figure(figsize=(8,5))\n",
    "sns.countplot(y = 'traffic_source', data = data, order = data.traffic_source.value_counts().index, palette='magma', \n",
    "              hue='contact')\n",
    "\n",
    "plt.xlabel('')\n",
    "plt.ylabel('')\n",
    "plt.title('Counts of Traffic Source Types')\n",
    "\n",
    "plt.show()"
   ]
  },
  {
   "cell_type": "code",
   "execution_count": 22,
   "id": "color-liverpool",
   "metadata": {},
   "outputs": [
    {
     "data": {
      "text/plain": [
       "<AxesSubplot:xlabel='contact', ylabel='previous_displays_this_session'>"
      ]
     },
     "execution_count": 22,
     "metadata": {},
     "output_type": "execute_result"
    },
    {
     "data": {
      "image/png": "[encoded data removed]",
      "text/plain": [
       "<Figure size 1080x1440 with 3 Axes>"
      ]
     },
     "metadata": {
      "needs_background": "light"
     },
     "output_type": "display_data"
    }
   ],
   "source": [
    "fig=plt.figure(figsize=(15,20))\n",
    "\n",
    "fig.add_subplot(3, 2, 1)\n",
    "sns.boxplot(x='contact', y='total_visits', data = data, palette='magma')\n",
    "fig.add_subplot(3, 2, 2)\n",
    "sns.boxplot(x='contact', y='clicks_before_this_display', data = data, palette='magma')\n",
    "fig.add_subplot(3, 2, 3)\n",
    "sns.boxplot(x='contact', y='previous_displays_this_session', data = data, palette='magma')"
   ]
  },
  {
   "cell_type": "code",
   "execution_count": 23,
   "id": "amber-digest",
   "metadata": {},
   "outputs": [
    {
     "data": {
      "image/png": "[encoded data removed]",
      "text/plain": [
       "<Figure size 1080x1440 with 3 Axes>"
      ]
     },
     "metadata": {
      "needs_background": "light"
     },
     "output_type": "display_data"
    }
   ],
   "source": [
    "fig=plt.figure(figsize=(15,20))\n",
    "\n",
    "fig.add_subplot(3, 2, 1)\n",
    "sns.scatterplot(x='total_visits', y='clicks_before_this_display', data = data, color='navy')\n",
    "fig.add_subplot(3, 2, 2)\n",
    "sns.scatterplot(x='clicks_before_this_display', y='previous_displays_this_session', data = data, color='navy')\n",
    "fig.add_subplot(3, 2, 3)\n",
    "sns.scatterplot(x='total_visits', y='previous_displays_this_session', data = data, color='navy')\n",
    "\n",
    "plt.show()"
   ]
  },
  {
   "cell_type": "code",
   "execution_count": 24,
   "id": "deadly-operator",
   "metadata": {},
   "outputs": [
    {
     "data": {
      "text/html": [
       "<div>\n",
       "<style scoped>\n",
       "    .dataframe tbody tr th:only-of-type {\n",
       "        vertical-align: middle;\n",
       "    }\n",
       "\n",
       "    .dataframe tbody tr th {\n",
       "        vertical-align: top;\n",
       "    }\n",
       "\n",
       "    .dataframe thead th {\n",
       "        text-align: right;\n",
       "    }\n",
       "</style>\n",
       "<table border=\"1\" class=\"dataframe\">\n",
       "  <thead>\n",
       "    <tr style=\"text-align: right;\">\n",
       "      <th></th>\n",
       "      <th>uid</th>\n",
       "      <th>display_time</th>\n",
       "      <th>landing_page</th>\n",
       "      <th>traffic_source</th>\n",
       "      <th>first_session_start_time</th>\n",
       "      <th>total_visits</th>\n",
       "      <th>previous_session_start_time</th>\n",
       "      <th>current_session_start_time</th>\n",
       "      <th>clicks_before_this_display</th>\n",
       "      <th>previous_displays_this_session</th>\n",
       "      <th>previous_display_time</th>\n",
       "      <th>current_url</th>\n",
       "      <th>country</th>\n",
       "      <th>message_type</th>\n",
       "      <th>response_promise</th>\n",
       "      <th>display_reason</th>\n",
       "      <th>call_center_status</th>\n",
       "      <th>device_type</th>\n",
       "      <th>contact</th>\n",
       "    </tr>\n",
       "  </thead>\n",
       "  <tbody>\n",
       "    <tr>\n",
       "      <th>0</th>\n",
       "      <td>e705b8929e6872a1ea1b4b7a78536c5f</td>\n",
       "      <td>2016-03-09 11:52:52</td>\n",
       "      <td>hidden.org/kcpov/ijrsg</td>\n",
       "      <td>SEM</td>\n",
       "      <td>2016-03-09 11:48:35</td>\n",
       "      <td>1</td>\n",
       "      <td>1900-01-01 12:00:00</td>\n",
       "      <td>2016-03-09 11:48:35</td>\n",
       "      <td>3</td>\n",
       "      <td>0</td>\n",
       "      <td>1900-01-01 12:00:00</td>\n",
       "      <td>hidden.org/kcpov/ijrsg</td>\n",
       "      <td>stnzd</td>\n",
       "      <td>id5</td>\n",
       "      <td>1 minute</td>\n",
       "      <td>id5</td>\n",
       "      <td>Open</td>\n",
       "      <td>mobile</td>\n",
       "      <td>0</td>\n",
       "    </tr>\n",
       "    <tr>\n",
       "      <th>1</th>\n",
       "      <td>aec94da87ad2a4ebc7481ae1bc079c36</td>\n",
       "      <td>2016-03-15 19:04:16</td>\n",
       "      <td>hidden.org/</td>\n",
       "      <td>SEM</td>\n",
       "      <td>2016-03-15 19:02:58</td>\n",
       "      <td>1</td>\n",
       "      <td>1900-01-01 12:00:00</td>\n",
       "      <td>2016-03-15 19:02:58</td>\n",
       "      <td>6</td>\n",
       "      <td>1</td>\n",
       "      <td>2016-03-15 19:03:39</td>\n",
       "      <td>hidden.org/pvynf</td>\n",
       "      <td>stnzd</td>\n",
       "      <td>id8</td>\n",
       "      <td>1 minute</td>\n",
       "      <td>id3</td>\n",
       "      <td>Open</td>\n",
       "      <td>tablet</td>\n",
       "      <td>0</td>\n",
       "    </tr>\n",
       "    <tr>\n",
       "      <th>2</th>\n",
       "      <td>adb7bbbe44f669b0b0978a793ae49132</td>\n",
       "      <td>2016-03-03 10:54:12</td>\n",
       "      <td>hidden.org/</td>\n",
       "      <td>SEM</td>\n",
       "      <td>2016-03-03 10:52:45</td>\n",
       "      <td>1</td>\n",
       "      <td>1900-01-01 12:00:00</td>\n",
       "      <td>2016-03-03 10:52:45</td>\n",
       "      <td>3</td>\n",
       "      <td>0</td>\n",
       "      <td>1900-01-01 12:00:00</td>\n",
       "      <td>hidden.org/pvynf/ijrsg</td>\n",
       "      <td>stnzd</td>\n",
       "      <td>id4</td>\n",
       "      <td>1 minute</td>\n",
       "      <td>id3</td>\n",
       "      <td>Open</td>\n",
       "      <td>mobile</td>\n",
       "      <td>0</td>\n",
       "    </tr>\n",
       "    <tr>\n",
       "      <th>3</th>\n",
       "      <td>2b5c6bf6ef6fec14025c73d2e99321eb</td>\n",
       "      <td>2016-04-30 11:57:18</td>\n",
       "      <td>hidden.org/</td>\n",
       "      <td>Search</td>\n",
       "      <td>2016-04-30 11:54:46</td>\n",
       "      <td>1</td>\n",
       "      <td>1900-01-01 12:00:00</td>\n",
       "      <td>2016-04-30 11:54:46</td>\n",
       "      <td>8</td>\n",
       "      <td>6</td>\n",
       "      <td>2016-04-30 11:56:54</td>\n",
       "      <td>hidden.org/kcpov</td>\n",
       "      <td>stnzd</td>\n",
       "      <td>id1</td>\n",
       "      <td>no_promise</td>\n",
       "      <td>id1</td>\n",
       "      <td>Open</td>\n",
       "      <td>mobile</td>\n",
       "      <td>0</td>\n",
       "    </tr>\n",
       "    <tr>\n",
       "      <th>4</th>\n",
       "      <td>fddee7e23976e16b8fa3e022e671500b</td>\n",
       "      <td>2016-04-26 10:09:51</td>\n",
       "      <td>hidden.org/</td>\n",
       "      <td>SEM</td>\n",
       "      <td>2016-04-21 12:55:59</td>\n",
       "      <td>2</td>\n",
       "      <td>2016-04-21 12:55:59</td>\n",
       "      <td>2016-04-26 10:09:12</td>\n",
       "      <td>6</td>\n",
       "      <td>1</td>\n",
       "      <td>2016-04-26 10:09:21</td>\n",
       "      <td>hidden.org/bgalf</td>\n",
       "      <td>stnzd</td>\n",
       "      <td>id6</td>\n",
       "      <td>1 minute</td>\n",
       "      <td>id2</td>\n",
       "      <td>Open</td>\n",
       "      <td>desktop</td>\n",
       "      <td>0</td>\n",
       "    </tr>\n",
       "  </tbody>\n",
       "</table>\n",
       "</div>"
      ],
      "text/plain": [
       "                                uid        display_time  \\\n",
       "0  e705b8929e6872a1ea1b4b7a78536c5f 2016-03-09 11:52:52   \n",
       "1  aec94da87ad2a4ebc7481ae1bc079c36 2016-03-15 19:04:16   \n",
       "2  adb7bbbe44f669b0b0978a793ae49132 2016-03-03 10:54:12   \n",
       "3  2b5c6bf6ef6fec14025c73d2e99321eb 2016-04-30 11:57:18   \n",
       "4  fddee7e23976e16b8fa3e022e671500b 2016-04-26 10:09:51   \n",
       "\n",
       "             landing_page traffic_source first_session_start_time  \\\n",
       "0  hidden.org/kcpov/ijrsg            SEM      2016-03-09 11:48:35   \n",
       "1             hidden.org/            SEM      2016-03-15 19:02:58   \n",
       "2             hidden.org/            SEM      2016-03-03 10:52:45   \n",
       "3             hidden.org/         Search      2016-04-30 11:54:46   \n",
       "4             hidden.org/            SEM      2016-04-21 12:55:59   \n",
       "\n",
       "   total_visits previous_session_start_time current_session_start_time  \\\n",
       "0             1         1900-01-01 12:00:00        2016-03-09 11:48:35   \n",
       "1             1         1900-01-01 12:00:00        2016-03-15 19:02:58   \n",
       "2             1         1900-01-01 12:00:00        2016-03-03 10:52:45   \n",
       "3             1         1900-01-01 12:00:00        2016-04-30 11:54:46   \n",
       "4             2         2016-04-21 12:55:59        2016-04-26 10:09:12   \n",
       "\n",
       "   clicks_before_this_display  previous_displays_this_session  \\\n",
       "0                           3                               0   \n",
       "1                           6                               1   \n",
       "2                           3                               0   \n",
       "3                           8                               6   \n",
       "4                           6                               1   \n",
       "\n",
       "  previous_display_time             current_url country message_type  \\\n",
       "0   1900-01-01 12:00:00  hidden.org/kcpov/ijrsg   stnzd          id5   \n",
       "1   2016-03-15 19:03:39        hidden.org/pvynf   stnzd          id8   \n",
       "2   1900-01-01 12:00:00  hidden.org/pvynf/ijrsg   stnzd          id4   \n",
       "3   2016-04-30 11:56:54        hidden.org/kcpov   stnzd          id1   \n",
       "4   2016-04-26 10:09:21        hidden.org/bgalf   stnzd          id6   \n",
       "\n",
       "  response_promise display_reason call_center_status device_type contact  \n",
       "0         1 minute            id5               Open      mobile       0  \n",
       "1         1 minute            id3               Open      tablet       0  \n",
       "2         1 minute            id3               Open      mobile       0  \n",
       "3       no_promise            id1               Open      mobile       0  \n",
       "4         1 minute            id2               Open     desktop       0  "
      ]
     },
     "execution_count": 24,
     "metadata": {},
     "output_type": "execute_result"
    }
   ],
   "source": [
    "data.head()"
   ]
  },
  {
   "cell_type": "markdown",
   "id": "severe-tuning",
   "metadata": {},
   "source": [
    "## Dealing with Time Variables"
   ]
  },
  {
   "cell_type": "code",
   "execution_count": 25,
   "id": "sustainable-maximum",
   "metadata": {},
   "outputs": [],
   "source": [
    "data['display_time_year'] = data['display_time'].dt.year\n",
    "data['display_time_month'] = data['display_time'].dt.month\n",
    "data['display_time_day'] = data['display_time'].dt.day\n",
    "data['display_time_hour'] = data['display_time'].dt.hour\n",
    "data['display_time_minute'] = data['display_time'].dt.minute\n",
    "\n",
    "data['first_session_start_time_year'] = data['first_session_start_time'].dt.year\n",
    "data['first_session_start_time_month'] = data['first_session_start_time'].dt.month\n",
    "data['first_session_start_time_day'] = data['first_session_start_time'].dt.day\n",
    "data['first_session_start_time_hour'] = data['first_session_start_time'].dt.hour\n",
    "data['first_session_start_time_minute'] = data['first_session_start_time'].dt.minute\n",
    "\n",
    "data['previous_session_start_time_year'] = data['previous_session_start_time'].dt.year\n",
    "data['previous_session_start_time_month'] = data['previous_session_start_time'].dt.month\n",
    "data['previous_session_start_time_day'] = data['previous_session_start_time'].dt.day\n",
    "data['previous_session_start_time_hour'] = data['previous_session_start_time'].dt.hour\n",
    "data['previous_session_start_time_minute'] = data['previous_session_start_time'].dt.minute\n",
    "\n",
    "data['current_session_start_time_year'] = data['current_session_start_time'].dt.year\n",
    "data['current_session_start_time_month'] = data['current_session_start_time'].dt.month\n",
    "data['current_session_start_time_day'] = data['current_session_start_time'].dt.day\n",
    "data['current_session_start_time_hour'] = data['current_session_start_time'].dt.hour\n",
    "data['current_session_start_time_minute'] = data['current_session_start_time'].dt.minute\n",
    "\n",
    "data['previous_display_time_year'] = data['previous_display_time'].dt.year\n",
    "data['previous_display_time_month'] = data['previous_display_time'].dt.month\n",
    "data['previous_display_time_day'] = data['previous_display_time'].dt.day\n",
    "data['previous_display_time_hour'] = data['previous_display_time'].dt.hour\n",
    "data['previous_display_time_minute'] = data['previous_display_time'].dt.minute"
   ]
  },
  {
   "cell_type": "code",
   "execution_count": 26,
   "id": "respiratory-atmosphere",
   "metadata": {},
   "outputs": [
    {
     "data": {
      "image/png": "[encoded data removed]",
      "text/plain": [
       "<Figure size 1080x1080 with 4 Axes>"
      ]
     },
     "metadata": {
      "needs_background": "light"
     },
     "output_type": "display_data"
    }
   ],
   "source": [
    "fig=plt.figure(figsize=(15,15))\n",
    "\n",
    "fig.add_subplot(3, 2, 1)\n",
    "sns.lineplot(x=data['display_time_hour'], y=data['contact']==1, data = data, color='navy')\n",
    "fig.add_subplot(3, 2, 2)\n",
    "sns.lineplot(x=data['first_session_start_time_hour'],y=data['contact']==1, data = data, color='navy')\n",
    "fig.add_subplot(3, 2, 3)\n",
    "sns.lineplot(x=data['previous_session_start_time_hour'], y=data['contact']==1, data = data, color='navy')\n",
    "fig.add_subplot(3, 2, 4)\n",
    "sns.lineplot(x=data['current_session_start_time_hour'], y=data['contact']==1, data = data, color='navy')\n",
    "\n",
    "plt.show()"
   ]
  },
  {
   "cell_type": "markdown",
   "id": "academic-knowing",
   "metadata": {},
   "source": [
    "## Dealing with the URLs"
   ]
  },
  {
   "cell_type": "code",
   "execution_count": 27,
   "id": "fourth-manor",
   "metadata": {},
   "outputs": [],
   "source": [
    "f1 = lambda x: x[\"landing_page\"].split(\"/\")[-1]\n",
    "data['landing_page'] = data.apply(f1, axis=1)"
   ]
  },
  {
   "cell_type": "code",
   "execution_count": 28,
   "id": "catholic-companion",
   "metadata": {},
   "outputs": [],
   "source": [
    "f2 = lambda x: x[\"current_url\"].split(\"/\")[-1]\n",
    "data['current_url'] = data.apply(f2, axis=1)"
   ]
  },
  {
   "cell_type": "code",
   "execution_count": 29,
   "id": "leading-multiple",
   "metadata": {},
   "outputs": [],
   "source": [
    "data.landing_page.replace(r'^\\s*$', 'home', regex=True, inplace = True)\n",
    "data.current_url.replace(r'^\\s*$', 'home', regex=True, inplace = True)"
   ]
  },
  {
   "cell_type": "markdown",
   "id": "sized-europe",
   "metadata": {},
   "source": [
    "## Dealing with the ID Variable"
   ]
  },
  {
   "cell_type": "code",
   "execution_count": 30,
   "id": "indoor-beijing",
   "metadata": {},
   "outputs": [],
   "source": [
    "data['uid'] = pd.factorize(data['uid'], sort=True)[0] + 1 "
   ]
  },
  {
   "cell_type": "code",
   "execution_count": 31,
   "id": "controlling-berkeley",
   "metadata": {},
   "outputs": [
    {
     "data": {
      "text/plain": [
       "uid     contact\n",
       "1       0           3\n",
       "2       0           4\n",
       "3       0           2\n",
       "4       0           1\n",
       "5       0           2\n",
       "                   ..\n",
       "135020  0          11\n",
       "135021  0           1\n",
       "135022  0           2\n",
       "135023  0           1\n",
       "135024  0           1\n",
       "Name: contact, Length: 136726, dtype: int64"
      ]
     },
     "execution_count": 31,
     "metadata": {},
     "output_type": "execute_result"
    }
   ],
   "source": [
    "data.groupby('uid')['contact'].value_counts()"
   ]
  },
  {
   "cell_type": "code",
   "execution_count": 32,
   "id": "nuclear-equivalent",
   "metadata": {},
   "outputs": [
    {
     "name": "stdout",
     "output_type": "stream",
     "text": [
      "category\n"
     ]
    }
   ],
   "source": [
    "data[\"uid\"] = data[\"uid\"].astype(\"category\")\n",
    "print(data['uid'].dtype)"
   ]
  },
  {
   "cell_type": "markdown",
   "id": "silver-poultry",
   "metadata": {},
   "source": [
    "## Dropping Not Needed Columns"
   ]
  },
  {
   "cell_type": "code",
   "execution_count": 33,
   "id": "filled-sculpture",
   "metadata": {},
   "outputs": [],
   "source": [
    "data.drop(['display_time', \n",
    "           'first_session_start_time', \n",
    "           'previous_session_start_time', \n",
    "           'current_session_start_time', \n",
    "           'previous_display_time'], axis=1, inplace=True)"
   ]
  },
  {
   "cell_type": "code",
   "execution_count": 34,
   "id": "above-candy",
   "metadata": {},
   "outputs": [
    {
     "data": {
      "text/html": [
       "<div>\n",
       "<style scoped>\n",
       "    .dataframe tbody tr th:only-of-type {\n",
       "        vertical-align: middle;\n",
       "    }\n",
       "\n",
       "    .dataframe tbody tr th {\n",
       "        vertical-align: top;\n",
       "    }\n",
       "\n",
       "    .dataframe thead th {\n",
       "        text-align: right;\n",
       "    }\n",
       "</style>\n",
       "<table border=\"1\" class=\"dataframe\">\n",
       "  <thead>\n",
       "    <tr style=\"text-align: right;\">\n",
       "      <th></th>\n",
       "      <th>uid</th>\n",
       "      <th>landing_page</th>\n",
       "      <th>traffic_source</th>\n",
       "      <th>total_visits</th>\n",
       "      <th>clicks_before_this_display</th>\n",
       "      <th>previous_displays_this_session</th>\n",
       "      <th>current_url</th>\n",
       "      <th>country</th>\n",
       "      <th>message_type</th>\n",
       "      <th>response_promise</th>\n",
       "      <th>...</th>\n",
       "      <th>current_session_start_time_year</th>\n",
       "      <th>current_session_start_time_month</th>\n",
       "      <th>current_session_start_time_day</th>\n",
       "      <th>current_session_start_time_hour</th>\n",
       "      <th>current_session_start_time_minute</th>\n",
       "      <th>previous_display_time_year</th>\n",
       "      <th>previous_display_time_month</th>\n",
       "      <th>previous_display_time_day</th>\n",
       "      <th>previous_display_time_hour</th>\n",
       "      <th>previous_display_time_minute</th>\n",
       "    </tr>\n",
       "  </thead>\n",
       "  <tbody>\n",
       "    <tr>\n",
       "      <th>0</th>\n",
       "      <td>121749</td>\n",
       "      <td>ijrsg</td>\n",
       "      <td>SEM</td>\n",
       "      <td>1</td>\n",
       "      <td>3</td>\n",
       "      <td>0</td>\n",
       "      <td>ijrsg</td>\n",
       "      <td>stnzd</td>\n",
       "      <td>id5</td>\n",
       "      <td>1 minute</td>\n",
       "      <td>...</td>\n",
       "      <td>2016</td>\n",
       "      <td>3</td>\n",
       "      <td>9</td>\n",
       "      <td>11</td>\n",
       "      <td>48</td>\n",
       "      <td>1900</td>\n",
       "      <td>1</td>\n",
       "      <td>1</td>\n",
       "      <td>12</td>\n",
       "      <td>0</td>\n",
       "    </tr>\n",
       "    <tr>\n",
       "      <th>1</th>\n",
       "      <td>92118</td>\n",
       "      <td>home</td>\n",
       "      <td>SEM</td>\n",
       "      <td>1</td>\n",
       "      <td>6</td>\n",
       "      <td>1</td>\n",
       "      <td>pvynf</td>\n",
       "      <td>stnzd</td>\n",
       "      <td>id8</td>\n",
       "      <td>1 minute</td>\n",
       "      <td>...</td>\n",
       "      <td>2016</td>\n",
       "      <td>3</td>\n",
       "      <td>15</td>\n",
       "      <td>19</td>\n",
       "      <td>2</td>\n",
       "      <td>2016</td>\n",
       "      <td>3</td>\n",
       "      <td>15</td>\n",
       "      <td>19</td>\n",
       "      <td>3</td>\n",
       "    </tr>\n",
       "    <tr>\n",
       "      <th>2</th>\n",
       "      <td>91561</td>\n",
       "      <td>home</td>\n",
       "      <td>SEM</td>\n",
       "      <td>1</td>\n",
       "      <td>3</td>\n",
       "      <td>0</td>\n",
       "      <td>ijrsg</td>\n",
       "      <td>stnzd</td>\n",
       "      <td>id4</td>\n",
       "      <td>1 minute</td>\n",
       "      <td>...</td>\n",
       "      <td>2016</td>\n",
       "      <td>3</td>\n",
       "      <td>3</td>\n",
       "      <td>10</td>\n",
       "      <td>52</td>\n",
       "      <td>1900</td>\n",
       "      <td>1</td>\n",
       "      <td>1</td>\n",
       "      <td>12</td>\n",
       "      <td>0</td>\n",
       "    </tr>\n",
       "    <tr>\n",
       "      <th>3</th>\n",
       "      <td>23108</td>\n",
       "      <td>home</td>\n",
       "      <td>Search</td>\n",
       "      <td>1</td>\n",
       "      <td>8</td>\n",
       "      <td>6</td>\n",
       "      <td>kcpov</td>\n",
       "      <td>stnzd</td>\n",
       "      <td>id1</td>\n",
       "      <td>no_promise</td>\n",
       "      <td>...</td>\n",
       "      <td>2016</td>\n",
       "      <td>4</td>\n",
       "      <td>30</td>\n",
       "      <td>11</td>\n",
       "      <td>54</td>\n",
       "      <td>2016</td>\n",
       "      <td>4</td>\n",
       "      <td>30</td>\n",
       "      <td>11</td>\n",
       "      <td>56</td>\n",
       "    </tr>\n",
       "    <tr>\n",
       "      <th>4</th>\n",
       "      <td>133876</td>\n",
       "      <td>home</td>\n",
       "      <td>SEM</td>\n",
       "      <td>2</td>\n",
       "      <td>6</td>\n",
       "      <td>1</td>\n",
       "      <td>bgalf</td>\n",
       "      <td>stnzd</td>\n",
       "      <td>id6</td>\n",
       "      <td>1 minute</td>\n",
       "      <td>...</td>\n",
       "      <td>2016</td>\n",
       "      <td>4</td>\n",
       "      <td>26</td>\n",
       "      <td>10</td>\n",
       "      <td>9</td>\n",
       "      <td>2016</td>\n",
       "      <td>4</td>\n",
       "      <td>26</td>\n",
       "      <td>10</td>\n",
       "      <td>9</td>\n",
       "    </tr>\n",
       "  </tbody>\n",
       "</table>\n",
       "<p>5 rows × 39 columns</p>\n",
       "</div>"
      ],
      "text/plain": [
       "      uid landing_page traffic_source  total_visits  \\\n",
       "0  121749        ijrsg            SEM             1   \n",
       "1   92118         home            SEM             1   \n",
       "2   91561         home            SEM             1   \n",
       "3   23108         home         Search             1   \n",
       "4  133876         home            SEM             2   \n",
       "\n",
       "   clicks_before_this_display  previous_displays_this_session current_url  \\\n",
       "0                           3                               0       ijrsg   \n",
       "1                           6                               1       pvynf   \n",
       "2                           3                               0       ijrsg   \n",
       "3                           8                               6       kcpov   \n",
       "4                           6                               1       bgalf   \n",
       "\n",
       "  country message_type response_promise  ... current_session_start_time_year  \\\n",
       "0   stnzd          id5         1 minute  ...                            2016   \n",
       "1   stnzd          id8         1 minute  ...                            2016   \n",
       "2   stnzd          id4         1 minute  ...                            2016   \n",
       "3   stnzd          id1       no_promise  ...                            2016   \n",
       "4   stnzd          id6         1 minute  ...                            2016   \n",
       "\n",
       "  current_session_start_time_month current_session_start_time_day  \\\n",
       "0                                3                              9   \n",
       "1                                3                             15   \n",
       "2                                3                              3   \n",
       "3                                4                             30   \n",
       "4                                4                             26   \n",
       "\n",
       "  current_session_start_time_hour  current_session_start_time_minute  \\\n",
       "0                              11                                 48   \n",
       "1                              19                                  2   \n",
       "2                              10                                 52   \n",
       "3                              11                                 54   \n",
       "4                              10                                  9   \n",
       "\n",
       "   previous_display_time_year  previous_display_time_month  \\\n",
       "0                        1900                            1   \n",
       "1                        2016                            3   \n",
       "2                        1900                            1   \n",
       "3                        2016                            4   \n",
       "4                        2016                            4   \n",
       "\n",
       "   previous_display_time_day  previous_display_time_hour  \\\n",
       "0                          1                          12   \n",
       "1                         15                          19   \n",
       "2                          1                          12   \n",
       "3                         30                          11   \n",
       "4                         26                          10   \n",
       "\n",
       "   previous_display_time_minute  \n",
       "0                             0  \n",
       "1                             3  \n",
       "2                             0  \n",
       "3                            56  \n",
       "4                             9  \n",
       "\n",
       "[5 rows x 39 columns]"
      ]
     },
     "execution_count": 34,
     "metadata": {},
     "output_type": "execute_result"
    }
   ],
   "source": [
    "data.head()"
   ]
  },
  {
   "cell_type": "markdown",
   "id": "spatial-zimbabwe",
   "metadata": {},
   "source": [
    "## Splitting the Dataset"
   ]
  },
  {
   "cell_type": "code",
   "execution_count": 35,
   "id": "sophisticated-artwork",
   "metadata": {},
   "outputs": [],
   "source": [
    "X = data.drop('contact', axis = 1)\n",
    "y = data[['contact']]"
   ]
  },
  {
   "cell_type": "code",
   "execution_count": 36,
   "id": "julian-montreal",
   "metadata": {},
   "outputs": [],
   "source": [
    "train, valid, train_labels, valid_labels = train_test_split(X, y, test_size = 0.2, stratify = y)"
   ]
  },
  {
   "cell_type": "code",
   "execution_count": 37,
   "id": "alien-january",
   "metadata": {},
   "outputs": [
    {
     "data": {
      "text/plain": [
       "((191196, 38), (47800, 38), (191196, 1), (47800, 1))"
      ]
     },
     "execution_count": 37,
     "metadata": {},
     "output_type": "execute_result"
    }
   ],
   "source": [
    "train.shape, valid.shape, train_labels.shape, valid_labels.shape"
   ]
  },
  {
   "cell_type": "markdown",
   "id": "assumed-cover",
   "metadata": {},
   "source": [
    "## Preparing for the Models"
   ]
  },
  {
   "cell_type": "code",
   "execution_count": 38,
   "id": "spatial-delay",
   "metadata": {},
   "outputs": [],
   "source": [
    "train_num = train.select_dtypes(include=[np.number])\n",
    "train_cat = train.select_dtypes(exclude=[np.number])\n",
    "\n",
    "num_attribs = list(train_num)\n",
    "cat_attribs = list(train_cat) "
   ]
  },
  {
   "cell_type": "code",
   "execution_count": 39,
   "id": "characteristic-jefferson",
   "metadata": {},
   "outputs": [],
   "source": [
    "num_pipeline = Pipeline([\n",
    "        ('minmax_scaler', MinMaxScaler())])\n",
    "\n",
    "full_pipeline = ColumnTransformer([\n",
    "        (\"num\", num_pipeline, num_attribs),\n",
    "        (\"cat\", OneHotEncoder(handle_unknown='ignore'), cat_attribs)])\n",
    "\n",
    "\n",
    "train_prepared = full_pipeline.fit_transform(train)\n",
    "valid_prepared = full_pipeline.transform(valid)"
   ]
  },
  {
   "cell_type": "code",
   "execution_count": 40,
   "id": "mysterious-walker",
   "metadata": {},
   "outputs": [
    {
     "name": "stdout",
     "output_type": "stream",
     "text": [
      "(191196, 116755)\n",
      "(191196, 1)\n",
      "(47800, 116755)\n",
      "(47800, 1)\n"
     ]
    }
   ],
   "source": [
    "print(train_prepared.shape) \n",
    "print(train_labels.shape)\n",
    "print(valid_prepared.shape) \n",
    "print(valid_labels.shape)"
   ]
  },
  {
   "cell_type": "markdown",
   "id": "concrete-heritage",
   "metadata": {},
   "source": [
    "## 1. Logistic Regression"
   ]
  },
  {
   "cell_type": "code",
   "execution_count": 39,
   "id": "hazardous-equality",
   "metadata": {},
   "outputs": [],
   "source": [
    "log_reg = LogisticRegression()\n",
    "log_reg.fit(train_prepared, train_labels)\n",
    "y_pred_log_reg = log_reg.predict(valid_prepared)"
   ]
  },
  {
   "cell_type": "code",
   "execution_count": 40,
   "id": "partial-deviation",
   "metadata": {},
   "outputs": [
    {
     "name": "stdout",
     "output_type": "stream",
     "text": [
      "[[46909     0]\n",
      " [  891     0]]\n"
     ]
    }
   ],
   "source": [
    "CM_log_reg = confusion_matrix(y_true = valid_labels, y_pred = y_pred_log_reg)\n",
    "print(CM_log_reg)"
   ]
  },
  {
   "cell_type": "code",
   "execution_count": 41,
   "id": "internal-roman",
   "metadata": {},
   "outputs": [
    {
     "name": "stdout",
     "output_type": "stream",
     "text": [
      "              precision    recall  f1-score   support\n",
      "\n",
      "           0       0.98      1.00      0.99     46909\n",
      "           1       0.00      0.00      0.00       891\n",
      "\n",
      "    accuracy                           0.98     47800\n",
      "   macro avg       0.49      0.50      0.50     47800\n",
      "weighted avg       0.96      0.98      0.97     47800\n",
      "\n"
     ]
    }
   ],
   "source": [
    "print(classification_report(valid_labels, y_pred_log_reg))"
   ]
  },
  {
   "cell_type": "code",
   "execution_count": 83,
   "id": "casual-headline",
   "metadata": {},
   "outputs": [
    {
     "data": {
      "image/png": "[encoded data removed]",
      "text/plain": [
       "<Figure size 576x360 with 1 Axes>"
      ]
     },
     "metadata": {
      "needs_background": "light"
     },
     "output_type": "display_data"
    }
   ],
   "source": [
    "y_proba_log_reg = log_reg.predict_proba(valid_prepared)[:,1]\n",
    "false_positive_rate1, true_positive_rate1, threshold1 = roc_curve(valid_labels, y_proba_log_reg)\n",
    "\n",
    "plt.figure(figsize=(8,5))\n",
    "plt.title('Receiver Operating Characteristic - Logistic regression')\n",
    "plt.plot(false_positive_rate1, true_positive_rate1)\n",
    "plt.plot([0, 1], ls=\"--\")\n",
    "plt.plot([0, 0], [1, 0] , c=\".7\"), plt.plot([1, 1] , c=\".7\")\n",
    "plt.ylabel('True Positive Rate')\n",
    "plt.xlabel('False Positive Rate')\n",
    "plt.show()"
   ]
  },
  {
   "cell_type": "markdown",
   "id": "victorian-billy",
   "metadata": {},
   "source": [
    "## 2. Multinomial Naive Bayes"
   ]
  },
  {
   "cell_type": "code",
   "execution_count": 43,
   "id": "urban-blink",
   "metadata": {},
   "outputs": [],
   "source": [
    "mnb = MultinomialNB()\n",
    "mnb.fit(train_prepared, train_labels)\n",
    "y_pred_mnb = mnb.predict(valid_prepared)"
   ]
  },
  {
   "cell_type": "code",
   "execution_count": 44,
   "id": "terminal-celebrity",
   "metadata": {},
   "outputs": [
    {
     "name": "stdout",
     "output_type": "stream",
     "text": [
      "[[46909     0]\n",
      " [  891     0]]\n"
     ]
    }
   ],
   "source": [
    "CM_mnb = confusion_matrix(y_true = valid_labels, y_pred = y_pred_mnb)\n",
    "print(CM_mnb)"
   ]
  },
  {
   "cell_type": "code",
   "execution_count": 45,
   "id": "skilled-semester",
   "metadata": {},
   "outputs": [
    {
     "name": "stdout",
     "output_type": "stream",
     "text": [
      "              precision    recall  f1-score   support\n",
      "\n",
      "           0       0.98      1.00      0.99     46909\n",
      "           1       0.00      0.00      0.00       891\n",
      "\n",
      "    accuracy                           0.98     47800\n",
      "   macro avg       0.49      0.50      0.50     47800\n",
      "weighted avg       0.96      0.98      0.97     47800\n",
      "\n"
     ]
    }
   ],
   "source": [
    "print(classification_report(valid_labels, y_pred_mnb))"
   ]
  },
  {
   "cell_type": "code",
   "execution_count": 84,
   "id": "operational-technician",
   "metadata": {},
   "outputs": [
    {
     "data": {
      "image/png": "[encoded data removed]",
      "text/plain": [
       "<Figure size 576x360 with 1 Axes>"
      ]
     },
     "metadata": {
      "needs_background": "light"
     },
     "output_type": "display_data"
    }
   ],
   "source": [
    "y_proba_mnb = mnb.predict_proba(valid_prepared)[:,1]\n",
    "false_positive_rate1, true_positive_rate1, threshold1 = roc_curve(valid_labels, y_proba_mnb)\n",
    "\n",
    "plt.figure(figsize=(8,5))\n",
    "plt.title('Receiver Operating Characteristic - Naive Bayes')\n",
    "plt.plot(false_positive_rate1, true_positive_rate1)\n",
    "plt.plot([0, 1], ls=\"--\")\n",
    "plt.plot([0, 0], [1, 0] , c=\".7\"), plt.plot([1, 1] , c=\".7\")\n",
    "plt.ylabel('True Positive Rate')\n",
    "plt.xlabel('False Positive Rate')\n",
    "plt.show()"
   ]
  },
  {
   "cell_type": "markdown",
   "id": "earned-repeat",
   "metadata": {},
   "source": [
    "## 3. KNeighbors Classifier"
   ]
  },
  {
   "cell_type": "code",
   "execution_count": 47,
   "id": "secure-navigation",
   "metadata": {},
   "outputs": [],
   "source": [
    "knn = KNeighborsClassifier()\n",
    "knn.fit(train_prepared, train_labels)\n",
    "y_pred_knn = knn.predict(valid_prepared)"
   ]
  },
  {
   "cell_type": "code",
   "execution_count": 48,
   "id": "stretch-length",
   "metadata": {},
   "outputs": [
    {
     "name": "stdout",
     "output_type": "stream",
     "text": [
      "[[46885    24]\n",
      " [  888     3]]\n"
     ]
    }
   ],
   "source": [
    "CM_knn = confusion_matrix(y_true = valid_labels, y_pred = y_pred_knn)\n",
    "print(CM_knn)"
   ]
  },
  {
   "cell_type": "code",
   "execution_count": 49,
   "id": "ongoing-dispatch",
   "metadata": {},
   "outputs": [
    {
     "name": "stdout",
     "output_type": "stream",
     "text": [
      "              precision    recall  f1-score   support\n",
      "\n",
      "           0       0.98      1.00      0.99     46909\n",
      "           1       0.11      0.00      0.01       891\n",
      "\n",
      "    accuracy                           0.98     47800\n",
      "   macro avg       0.55      0.50      0.50     47800\n",
      "weighted avg       0.97      0.98      0.97     47800\n",
      "\n"
     ]
    }
   ],
   "source": [
    "print(classification_report(valid_labels, y_pred_knn))"
   ]
  },
  {
   "cell_type": "code",
   "execution_count": 85,
   "id": "irish-gregory",
   "metadata": {},
   "outputs": [
    {
     "data": {
      "image/png": "[encoded data removed]",
      "text/plain": [
       "<Figure size 576x360 with 1 Axes>"
      ]
     },
     "metadata": {
      "needs_background": "light"
     },
     "output_type": "display_data"
    }
   ],
   "source": [
    "y_proba_knn = knn.predict_proba(valid_prepared)[:,1]\n",
    "false_positive_rate1, true_positive_rate1, threshold1 = roc_curve(valid_labels, y_proba_knn)\n",
    "\n",
    "plt.figure(figsize=(8,5))\n",
    "plt.title('Receiver Operating Characteristic - KNeareast Neighbors')\n",
    "plt.plot(false_positive_rate1, true_positive_rate1)\n",
    "plt.plot([0, 1], ls=\"--\")\n",
    "plt.plot([0, 0], [1, 0] , c=\".7\"), plt.plot([1, 1] , c=\".7\")\n",
    "plt.ylabel('True Positive Rate')\n",
    "plt.xlabel('False Positive Rate')\n",
    "plt.show()"
   ]
  },
  {
   "cell_type": "markdown",
   "id": "continued-passage",
   "metadata": {},
   "source": [
    "#### There is an Imbalanced Data Classes Problem"
   ]
  },
  {
   "cell_type": "markdown",
   "id": "listed-batman",
   "metadata": {},
   "source": [
    "## 4. Balanced Support Vector Classifier"
   ]
  },
  {
   "cell_type": "code",
   "execution_count": 51,
   "id": "empirical-company",
   "metadata": {},
   "outputs": [],
   "source": [
    "# svc_reg = SVC(class_weight='balanced')\n",
    "# svc_reg.fit(train_prepared, train_labels)\n",
    "# y_pred_svc_reg = svc_reg.predict(valid_prepared)"
   ]
  },
  {
   "cell_type": "code",
   "execution_count": 52,
   "id": "atlantic-defensive",
   "metadata": {},
   "outputs": [],
   "source": [
    "# CM_svc_reg = confusion_matrix(y_true = valid_labels, y_pred = y_pred_svc_reg)\n",
    "# print(CM_svc_reg)"
   ]
  },
  {
   "cell_type": "code",
   "execution_count": 53,
   "id": "quantitative-hudson",
   "metadata": {},
   "outputs": [],
   "source": [
    "# print(classification_report(valid_labels, y_pred_svc_reg))"
   ]
  },
  {
   "cell_type": "code",
   "execution_count": null,
   "id": "black-assessment",
   "metadata": {},
   "outputs": [],
   "source": [
    "# y_proba_svc = svc_reg.predict_proba(valid_prepared)[:,1]\n",
    "# false_positive_rate1, true_positive_rate1, threshold1 = roc_curve(valid_labels, y_proba_svc)\n",
    "\n",
    "# plt.figure(figsize=(8,5))\n",
    "# plt.title('Receiver Operating Characteristic - SVC')\n",
    "# plt.plot(false_positive_rate1, true_positive_rate1)\n",
    "# plt.plot([0, 1], ls=\"--\")\n",
    "# plt.plot([0, 0], [1, 0] , c=\".7\"), plt.plot([1, 1] , c=\".7\")\n",
    "# plt.ylabel('True Positive Rate')\n",
    "# plt.xlabel('False Positive Rate')\n",
    "# plt.show()"
   ]
  },
  {
   "cell_type": "markdown",
   "id": "photographic-decade",
   "metadata": {},
   "source": [
    "## 5. Logistic Regression with Over-Sampling: SMOTE"
   ]
  },
  {
   "cell_type": "code",
   "execution_count": 55,
   "id": "judicial-survival",
   "metadata": {},
   "outputs": [
    {
     "data": {
      "text/plain": [
       "contact\n",
       "0          187632\n",
       "1          187632\n",
       "dtype: int64"
      ]
     },
     "execution_count": 55,
     "metadata": {},
     "output_type": "execute_result"
    }
   ],
   "source": [
    "sm = SMOTE(random_state = 2)\n",
    "train_prepared_res, train_labels_res = sm.fit_resample(train_prepared, train_labels)\n",
    "train_labels_res.value_counts()"
   ]
  },
  {
   "cell_type": "code",
   "execution_count": 56,
   "id": "south-blind",
   "metadata": {},
   "outputs": [],
   "source": [
    "log_reg_smote = LogisticRegression()\n",
    "log_reg_smote.fit(train_prepared_res, train_labels_res)\n",
    "y_pred_log_reg_smote = log_reg_smote.predict(valid_prepared)"
   ]
  },
  {
   "cell_type": "code",
   "execution_count": 57,
   "id": "hollow-velvet",
   "metadata": {},
   "outputs": [
    {
     "name": "stdout",
     "output_type": "stream",
     "text": [
      "[[44329  2580]\n",
      " [  742   149]]\n"
     ]
    }
   ],
   "source": [
    "CM_log_reg_smote = confusion_matrix(y_true = valid_labels, y_pred = y_pred_log_reg_smote)\n",
    "print(CM_log_reg_smote)"
   ]
  },
  {
   "cell_type": "code",
   "execution_count": 58,
   "id": "outside-ceremony",
   "metadata": {},
   "outputs": [
    {
     "name": "stdout",
     "output_type": "stream",
     "text": [
      "              precision    recall  f1-score   support\n",
      "\n",
      "           0       0.98      0.94      0.96     46909\n",
      "           1       0.05      0.17      0.08       891\n",
      "\n",
      "    accuracy                           0.93     47800\n",
      "   macro avg       0.52      0.56      0.52     47800\n",
      "weighted avg       0.97      0.93      0.95     47800\n",
      "\n"
     ]
    }
   ],
   "source": [
    "print(classification_report(valid_labels, y_pred_log_reg_smote))"
   ]
  },
  {
   "cell_type": "code",
   "execution_count": 86,
   "id": "banner-produce",
   "metadata": {},
   "outputs": [
    {
     "data": {
      "image/png": "[encoded data removed]",
      "text/plain": [
       "<Figure size 576x360 with 1 Axes>"
      ]
     },
     "metadata": {
      "needs_background": "light"
     },
     "output_type": "display_data"
    }
   ],
   "source": [
    "y_proba_log_smote = log_reg_smote.predict_proba(valid_prepared)[:,1]\n",
    "false_positive_rate1, true_positive_rate1, threshold1 = roc_curve(valid_labels, y_proba_log_smote)\n",
    "\n",
    "plt.figure(figsize=(8,5))\n",
    "plt.title('Receiver Operating Characteristic - Logistic Regression with SMOTE')\n",
    "plt.plot(false_positive_rate1, true_positive_rate1)\n",
    "plt.plot([0, 1], ls=\"--\")\n",
    "plt.plot([0, 0], [1, 0] , c=\".7\"), plt.plot([1, 1] , c=\".7\")\n",
    "plt.ylabel('True Positive Rate')\n",
    "plt.xlabel('False Positive Rate')\n",
    "plt.show()"
   ]
  },
  {
   "cell_type": "markdown",
   "id": "artistic-causing",
   "metadata": {},
   "source": [
    "## 6. Multinomial Naive Bayes with Over-Sampling: SMOTE"
   ]
  },
  {
   "cell_type": "code",
   "execution_count": 60,
   "id": "quantitative-album",
   "metadata": {},
   "outputs": [
    {
     "data": {
      "text/plain": [
       "contact\n",
       "0          187632\n",
       "1          187632\n",
       "dtype: int64"
      ]
     },
     "execution_count": 60,
     "metadata": {},
     "output_type": "execute_result"
    }
   ],
   "source": [
    "sm = SMOTE(random_state = 2)\n",
    "train_prepared_res, train_labels_res = sm.fit_resample(train_prepared, train_labels)\n",
    "train_labels_res.value_counts()"
   ]
  },
  {
   "cell_type": "code",
   "execution_count": 61,
   "id": "contemporary-luxembourg",
   "metadata": {},
   "outputs": [],
   "source": [
    "mnb_smote = MultinomialNB()\n",
    "mnb_smote.fit(train_prepared_res, train_labels_res)\n",
    "y_pred_mnb_smote = mnb_smote.predict(valid_prepared)"
   ]
  },
  {
   "cell_type": "code",
   "execution_count": 62,
   "id": "cathedral-writer",
   "metadata": {},
   "outputs": [
    {
     "name": "stdout",
     "output_type": "stream",
     "text": [
      "[[35473 11436]\n",
      " [  436   455]]\n"
     ]
    }
   ],
   "source": [
    "CM_mnb_smote = confusion_matrix(y_true = valid_labels, y_pred = y_pred_mnb_smote)\n",
    "print(CM_mnb_smote)"
   ]
  },
  {
   "cell_type": "code",
   "execution_count": 63,
   "id": "removable-exclusion",
   "metadata": {},
   "outputs": [
    {
     "name": "stdout",
     "output_type": "stream",
     "text": [
      "              precision    recall  f1-score   support\n",
      "\n",
      "           0       0.99      0.76      0.86     46909\n",
      "           1       0.04      0.51      0.07       891\n",
      "\n",
      "    accuracy                           0.75     47800\n",
      "   macro avg       0.51      0.63      0.46     47800\n",
      "weighted avg       0.97      0.75      0.84     47800\n",
      "\n"
     ]
    }
   ],
   "source": [
    "print(classification_report(valid_labels, y_pred_mnb_smote))"
   ]
  },
  {
   "cell_type": "code",
   "execution_count": 87,
   "id": "moving-sullivan",
   "metadata": {},
   "outputs": [
    {
     "data": {
      "image/png": "[encoded data removed]",
      "text/plain": [
       "<Figure size 576x360 with 1 Axes>"
      ]
     },
     "metadata": {
      "needs_background": "light"
     },
     "output_type": "display_data"
    }
   ],
   "source": [
    "y_proba_mnb_smote = mnb_smote.predict_proba(valid_prepared)[:,1]\n",
    "false_positive_rate1, true_positive_rate1, threshold1 = roc_curve(valid_labels, y_proba_mnb_smote)\n",
    "\n",
    "plt.figure(figsize=(8,5))\n",
    "plt.title('Receiver Operating Characteristic - Naive Bayes with SMOTE')\n",
    "plt.plot(false_positive_rate1, true_positive_rate1)\n",
    "plt.plot([0, 1], ls=\"--\")\n",
    "plt.plot([0, 0], [1, 0] , c=\".7\"), plt.plot([1, 1] , c=\".7\")\n",
    "plt.ylabel('True Positive Rate')\n",
    "plt.xlabel('False Positive Rate')\n",
    "plt.show()"
   ]
  },
  {
   "cell_type": "markdown",
   "id": "immediate-enhancement",
   "metadata": {},
   "source": [
    "## 7. KNeighbors Classifier with Over-Sampling: SMOTE"
   ]
  },
  {
   "cell_type": "code",
   "execution_count": 65,
   "id": "chronic-wedding",
   "metadata": {},
   "outputs": [
    {
     "data": {
      "text/plain": [
       "contact\n",
       "0          187632\n",
       "1          187632\n",
       "dtype: int64"
      ]
     },
     "execution_count": 65,
     "metadata": {},
     "output_type": "execute_result"
    }
   ],
   "source": [
    "sm = SMOTE(random_state = 2)\n",
    "train_prepared_res, train_labels_res = sm.fit_resample(train_prepared, train_labels)\n",
    "train_labels_res.value_counts()"
   ]
  },
  {
   "cell_type": "code",
   "execution_count": 66,
   "id": "developed-grounds",
   "metadata": {},
   "outputs": [],
   "source": [
    "knn_smote = KNeighborsClassifier()\n",
    "knn_smote.fit(train_prepared_res, train_labels_res)\n",
    "y_pred_knn_smote = knn_smote.predict(valid_prepared)"
   ]
  },
  {
   "cell_type": "code",
   "execution_count": 67,
   "id": "animal-bernard",
   "metadata": {},
   "outputs": [
    {
     "name": "stdout",
     "output_type": "stream",
     "text": [
      "[[29851 17058]\n",
      " [  438   453]]\n"
     ]
    }
   ],
   "source": [
    "CM_knn_smote = confusion_matrix(y_true = valid_labels, y_pred = y_pred_knn_smote)\n",
    "print(CM_knn_smote)"
   ]
  },
  {
   "cell_type": "code",
   "execution_count": 68,
   "id": "delayed-restriction",
   "metadata": {},
   "outputs": [
    {
     "name": "stdout",
     "output_type": "stream",
     "text": [
      "              precision    recall  f1-score   support\n",
      "\n",
      "           0       0.99      0.64      0.77     46909\n",
      "           1       0.03      0.51      0.05       891\n",
      "\n",
      "    accuracy                           0.63     47800\n",
      "   macro avg       0.51      0.57      0.41     47800\n",
      "weighted avg       0.97      0.63      0.76     47800\n",
      "\n"
     ]
    }
   ],
   "source": [
    "print(classification_report(valid_labels, y_pred_knn_smote))"
   ]
  },
  {
   "cell_type": "code",
   "execution_count": 88,
   "id": "advisory-composition",
   "metadata": {},
   "outputs": [
    {
     "data": {
      "image/png": "[encoded data removed]",
      "text/plain": [
       "<Figure size 576x360 with 1 Axes>"
      ]
     },
     "metadata": {
      "needs_background": "light"
     },
     "output_type": "display_data"
    }
   ],
   "source": [
    "y_proba_knn_smote = knn_smote.predict_proba(valid_prepared)[:,1]\n",
    "false_positive_rate1, true_positive_rate1, threshold1 = roc_curve(valid_labels, y_proba_knn_smote)\n",
    "\n",
    "plt.figure(figsize=(8,5))\n",
    "plt.title('Receiver Operating Characteristic - KNearest Neighbors with SMOTE')\n",
    "plt.plot(false_positive_rate1, true_positive_rate1)\n",
    "plt.plot([0, 1], ls=\"--\")\n",
    "plt.plot([0, 0], [1, 0] , c=\".7\"), plt.plot([1, 1] , c=\".7\")\n",
    "plt.ylabel('True Positive Rate')\n",
    "plt.xlabel('False Positive Rate')\n",
    "plt.show()"
   ]
  },
  {
   "cell_type": "markdown",
   "id": "large-money",
   "metadata": {},
   "source": [
    "## 8. Random Forest with Over-Sampling: SMOTE"
   ]
  },
  {
   "cell_type": "code",
   "execution_count": 74,
   "id": "visible-abraham",
   "metadata": {},
   "outputs": [
    {
     "data": {
      "text/plain": [
       "contact\n",
       "0          187632\n",
       "1          187632\n",
       "dtype: int64"
      ]
     },
     "execution_count": 74,
     "metadata": {},
     "output_type": "execute_result"
    }
   ],
   "source": [
    "sm = SMOTE(random_state = 2)\n",
    "train_prepared_res, train_labels_res = sm.fit_resample(train_prepared, train_labels)\n",
    "train_labels_res.value_counts()"
   ]
  },
  {
   "cell_type": "code",
   "execution_count": 75,
   "id": "dominant-seven",
   "metadata": {},
   "outputs": [],
   "source": [
    "rfc_smote = RandomForestClassifier()\n",
    "rfc_smote.fit(train_prepared_res, train_labels_res)\n",
    "y_pred_rfc_smote = rfc_smote.predict(valid_prepared)"
   ]
  },
  {
   "cell_type": "code",
   "execution_count": 76,
   "id": "clear-diversity",
   "metadata": {},
   "outputs": [
    {
     "name": "stdout",
     "output_type": "stream",
     "text": [
      "[[46893    16]\n",
      " [  890     1]]\n"
     ]
    }
   ],
   "source": [
    "CM_rfc_smote = confusion_matrix(y_true = valid_labels, y_pred = y_pred_rfc_smote)\n",
    "print(CM_rfc_smote)"
   ]
  },
  {
   "cell_type": "code",
   "execution_count": 77,
   "id": "indie-correction",
   "metadata": {},
   "outputs": [
    {
     "name": "stdout",
     "output_type": "stream",
     "text": [
      "              precision    recall  f1-score   support\n",
      "\n",
      "           0       0.98      1.00      0.99     46909\n",
      "           1       0.06      0.00      0.00       891\n",
      "\n",
      "    accuracy                           0.98     47800\n",
      "   macro avg       0.52      0.50      0.50     47800\n",
      "weighted avg       0.96      0.98      0.97     47800\n",
      "\n"
     ]
    }
   ],
   "source": [
    "print(classification_report(valid_labels, y_pred_rfc_smote))"
   ]
  },
  {
   "cell_type": "code",
   "execution_count": 89,
   "id": "attractive-tennis",
   "metadata": {},
   "outputs": [
    {
     "data": {
      "image/png": "[encoded data removed]",
      "text/plain": [
       "<Figure size 576x360 with 1 Axes>"
      ]
     },
     "metadata": {
      "needs_background": "light"
     },
     "output_type": "display_data"
    }
   ],
   "source": [
    "y_proba_rfc_smote = rfc_smote.predict_proba(valid_prepared)[:,1]\n",
    "false_positive_rate1, true_positive_rate1, threshold1 = roc_curve(valid_labels, y_proba_rfc_smote)\n",
    "\n",
    "plt.figure(figsize=(8,5))\n",
    "plt.title('Receiver Operating Characteristic - Random Forest with SMOTE')\n",
    "plt.plot(false_positive_rate1, true_positive_rate1)\n",
    "plt.plot([0, 1], ls=\"--\")\n",
    "plt.plot([0, 0], [1, 0] , c=\".7\"), plt.plot([1, 1] , c=\".7\")\n",
    "plt.ylabel('True Positive Rate')\n",
    "plt.xlabel('False Positive Rate')\n",
    "plt.show()"
   ]
  }
 ],
 "metadata": {
  "kernelspec": {
   "display_name": "Python 3",
   "language": "python",
   "name": "python3"
  },
  "language_info": {
   "codemirror_mode": {
    "name": "ipython",
    "version": 3
   },
   "file_extension": ".py",
   "mimetype": "text/x-python",
   "name": "python",
   "nbconvert_exporter": "python",
   "pygments_lexer": "ipython3",
   "version": "3.8.8"
  }
 },
 "nbformat": 4,
 "nbformat_minor": 5
}
